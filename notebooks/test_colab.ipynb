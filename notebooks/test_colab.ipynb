{
  "nbformat": 4,
  "nbformat_minor": 0,
  "metadata": {
    "kernelspec": {
      "name": "python3",
      "display_name": "Python 3"
    },
    "language_info": {
      "codemirror_mode": {
        "name": "ipython",
        "version": 3
      },
      "file_extension": ".py",
      "mimetype": "text/x-python",
      "name": "python",
      "nbconvert_exporter": "python",
      "pygments_lexer": "ipython3",
      "version": "3.6.8"
    },
    "colab": {
      "name": "test_colab.ipynb",
      "provenance": []
    },
    "accelerator": "TPU"
  },
  "cells": [
    {
      "cell_type": "markdown",
      "metadata": {
        "id": "aWulcgBFx2EL",
        "colab_type": "text"
      },
      "source": [
        "# edu-cater "
      ]
    },
    {
      "cell_type": "code",
      "metadata": {
        "id": "velh3iALx2EN",
        "colab_type": "code",
        "colab": {
          "base_uri": "https://localhost:8080/",
          "height": 765
        },
        "outputId": "0da6b813-5a45-48a1-9e72-6b734c890b9d"
      },
      "source": [
        "# imports\n",
        "\n",
        "!pip install selenium\n",
        "!pip install pyLDAvis\n",
        "from selenium import webdriver\n",
        "from bs4 import BeautifulSoup\n",
        "import requests, os, json, csv, copy, operator\n",
        "from collections import Counter\n",
        "\n",
        "import pandas as pd\n",
        "import numpy as np\n",
        "import pickle, time\n",
        "import seaborn as sns\n",
        "from scipy.io import savemat, loadmat\n",
        "from matplotlib import pyplot as plt\n",
        "%matplotlib inline\n",
        "\n",
        "import nltk\n",
        "nltk.download('wordnet')\n",
        "from nltk.stem import WordNetLemmatizer, SnowballStemmer\n",
        "from nltk.stem.porter import *\n",
        "\n",
        "from sklearn.feature_extraction.text import TfidfVectorizer, CountVectorizer # ???\n",
        "from sklearn.metrics import silhouette_score\n",
        "from sklearn.decomposition import LatentDirichletAllocation\n",
        "from sklearn.metrics.pairwise import euclidean_distances\n",
        "from pyLDAvis import sklearn as pyldavis_sklearn\n",
        "\n",
        "import gensim\n",
        "from gensim.utils import simple_preprocess\n",
        "from gensim.models import LdaMulticore\n",
        "from gensim.models.coherencemodel import CoherenceModel\n",
        "from gensim.matutils import jaccard\n",
        "from gensim.matutils import jensen_shannon\n",
        "\n",
        "from sklearn.metrics.pairwise import cosine_similarity as cos_sim\n",
        "\n",
        "import pyLDAvis\n",
        "from pyLDAvis import gensim as pyldagensim\n",
        "\n",
        "import networkx as nx\n",
        "from networkx.algorithms import shortest_path\n",
        "\n",
        "import warnings\n",
        "warnings.filterwarnings('ignore')\n",
        "\n",
        "\n",
        "# import edu-cater classes/functions\n",
        "# from edutools import course_scraper"
      ],
      "execution_count": 1,
      "outputs": [
        {
          "output_type": "stream",
          "text": [
            "Collecting selenium\n",
            "\u001b[?25l  Downloading https://files.pythonhosted.org/packages/80/d6/4294f0b4bce4de0abf13e17190289f9d0613b0a44e5dd6a7f5ca98459853/selenium-3.141.0-py2.py3-none-any.whl (904kB)\n",
            "\u001b[K     |████████████████████████████████| 911kB 3.5MB/s \n",
            "\u001b[?25hRequirement already satisfied: urllib3 in /usr/local/lib/python3.6/dist-packages (from selenium) (1.24.3)\n",
            "Installing collected packages: selenium\n",
            "Successfully installed selenium-3.141.0\n",
            "Collecting pyLDAvis\n",
            "\u001b[?25l  Downloading https://files.pythonhosted.org/packages/a5/3a/af82e070a8a96e13217c8f362f9a73e82d61ac8fff3a2561946a97f96266/pyLDAvis-2.1.2.tar.gz (1.6MB)\n",
            "\u001b[K     |████████████████████████████████| 1.6MB 3.4MB/s \n",
            "\u001b[?25hRequirement already satisfied: wheel>=0.23.0 in /usr/local/lib/python3.6/dist-packages (from pyLDAvis) (0.33.6)\n",
            "Requirement already satisfied: numpy>=1.9.2 in /usr/local/lib/python3.6/dist-packages (from pyLDAvis) (1.16.5)\n",
            "Requirement already satisfied: scipy>=0.18.0 in /usr/local/lib/python3.6/dist-packages (from pyLDAvis) (1.3.1)\n",
            "Requirement already satisfied: pandas>=0.17.0 in /usr/local/lib/python3.6/dist-packages (from pyLDAvis) (0.24.2)\n",
            "Requirement already satisfied: joblib>=0.8.4 in /usr/local/lib/python3.6/dist-packages (from pyLDAvis) (0.13.2)\n",
            "Requirement already satisfied: jinja2>=2.7.2 in /usr/local/lib/python3.6/dist-packages (from pyLDAvis) (2.10.1)\n",
            "Requirement already satisfied: numexpr in /usr/local/lib/python3.6/dist-packages (from pyLDAvis) (2.7.0)\n",
            "Requirement already satisfied: pytest in /usr/local/lib/python3.6/dist-packages (from pyLDAvis) (3.6.4)\n",
            "Requirement already satisfied: future in /usr/local/lib/python3.6/dist-packages (from pyLDAvis) (0.16.0)\n",
            "Collecting funcy (from pyLDAvis)\n",
            "  Downloading https://files.pythonhosted.org/packages/eb/3a/fc8323f913e8a9c6f33f7203547f8a2171223da5ed965f2541dafb10aa09/funcy-1.13-py2.py3-none-any.whl\n",
            "Requirement already satisfied: python-dateutil>=2.5.0 in /usr/local/lib/python3.6/dist-packages (from pandas>=0.17.0->pyLDAvis) (2.5.3)\n",
            "Requirement already satisfied: pytz>=2011k in /usr/local/lib/python3.6/dist-packages (from pandas>=0.17.0->pyLDAvis) (2018.9)\n",
            "Requirement already satisfied: MarkupSafe>=0.23 in /usr/local/lib/python3.6/dist-packages (from jinja2>=2.7.2->pyLDAvis) (1.1.1)\n",
            "Requirement already satisfied: more-itertools>=4.0.0 in /usr/local/lib/python3.6/dist-packages (from pytest->pyLDAvis) (7.2.0)\n",
            "Requirement already satisfied: atomicwrites>=1.0 in /usr/local/lib/python3.6/dist-packages (from pytest->pyLDAvis) (1.3.0)\n",
            "Requirement already satisfied: attrs>=17.4.0 in /usr/local/lib/python3.6/dist-packages (from pytest->pyLDAvis) (19.1.0)\n",
            "Requirement already satisfied: setuptools in /usr/local/lib/python3.6/dist-packages (from pytest->pyLDAvis) (41.2.0)\n",
            "Requirement already satisfied: py>=1.5.0 in /usr/local/lib/python3.6/dist-packages (from pytest->pyLDAvis) (1.8.0)\n",
            "Requirement already satisfied: six>=1.10.0 in /usr/local/lib/python3.6/dist-packages (from pytest->pyLDAvis) (1.12.0)\n",
            "Requirement already satisfied: pluggy<0.8,>=0.5 in /usr/local/lib/python3.6/dist-packages (from pytest->pyLDAvis) (0.7.1)\n",
            "Building wheels for collected packages: pyLDAvis\n",
            "  Building wheel for pyLDAvis (setup.py) ... \u001b[?25l\u001b[?25hdone\n",
            "  Created wheel for pyLDAvis: filename=pyLDAvis-2.1.2-py2.py3-none-any.whl size=97711 sha256=9e91974eaaa5777e6acf9a0851c79e47372b26822e9a830aff78f6cca0c9afad\n",
            "  Stored in directory: /root/.cache/pip/wheels/98/71/24/513a99e58bb6b8465bae4d2d5e9dba8f0bef8179e3051ac414\n",
            "Successfully built pyLDAvis\n",
            "Installing collected packages: funcy, pyLDAvis\n",
            "Successfully installed funcy-1.13 pyLDAvis-2.1.2\n",
            "[nltk_data] Downloading package wordnet to /root/nltk_data...\n",
            "[nltk_data]   Unzipping corpora/wordnet.zip.\n"
          ],
          "name": "stdout"
        },
        {
          "output_type": "stream",
          "text": [
            "/usr/local/lib/python3.6/dist-packages/scipy/sparse/sparsetools.py:21: DeprecationWarning: `scipy.sparse.sparsetools` is deprecated!\n",
            "scipy.sparse.sparsetools is a private module for scipy.sparse, and should not be used.\n",
            "  _deprecated()\n"
          ],
          "name": "stderr"
        }
      ]
    },
    {
      "cell_type": "markdown",
      "metadata": {
        "id": "yqn6xZvfx2ET",
        "colab_type": "text"
      },
      "source": [
        "# Latent Dirichlet Allocation (LDA)"
      ]
    },
    {
      "cell_type": "code",
      "metadata": {
        "id": "kDncKtdRyTvZ",
        "colab_type": "code",
        "colab": {
          "base_uri": "https://localhost:8080/",
          "height": 208
        },
        "outputId": "63126f25-09c6-42fb-eedf-e397c68f6789"
      },
      "source": [
        "!wget https://raw.githubusercontent.com/amandakeasson/edu-cater/master/processed_info.pkl\n",
        "file = open('processed_info.pkl', 'rb')\n",
        "processed_info, skills_all, course_info_all = pickle.load(file)\n",
        "file.close()"
      ],
      "execution_count": 2,
      "outputs": [
        {
          "output_type": "stream",
          "text": [
            "--2019-10-06 20:27:51--  https://raw.githubusercontent.com/amandakeasson/edu-cater/master/processed_info.pkl\n",
            "Resolving raw.githubusercontent.com (raw.githubusercontent.com)... 151.101.0.133, 151.101.64.133, 151.101.128.133, ...\n",
            "Connecting to raw.githubusercontent.com (raw.githubusercontent.com)|151.101.0.133|:443... connected.\n",
            "HTTP request sent, awaiting response... 200 OK\n",
            "Length: 19035813 (18M) [application/octet-stream]\n",
            "Saving to: ‘processed_info.pkl’\n",
            "\n",
            "processed_info.pkl  100%[===================>]  18.15M   101MB/s    in 0.2s    \n",
            "\n",
            "2019-10-06 20:27:51 (101 MB/s) - ‘processed_info.pkl’ saved [19035813/19035813]\n",
            "\n"
          ],
          "name": "stdout"
        }
      ]
    },
    {
      "cell_type": "code",
      "metadata": {
        "id": "mkaBTTdNx2Ef",
        "colab_type": "code",
        "colab": {
          "base_uri": "https://localhost:8080/",
          "height": 52
        },
        "outputId": "9c98dad2-4422-43a3-9a75-787cf0c9dc42"
      },
      "source": [
        "stopwords = list(gensim.parsing.preprocessing.STOPWORDS)\n",
        "stopwords.extend(['youâ', 'week', 'write', 'solv', 'peer', 'assign', 'beginn',\n",
        "                  'need', 'peopl', 'content', 'teach', 'assess', 'plan', 'capston',\n",
        "                  'video', 'lesson', 'think', 'idea', 'lectur', 'learner',\n",
        "                 'quiz', 'test', 'submit', 'way', 'good', 'choos', 'begin', 'examin', 'colleg', 'academ', 'university', 'mooc',\n",
        "                 'teacher', 'educ', 'classroom', 'want', 'materi', 'instruct', 'level', 'section'])\n",
        "\n",
        "# make dictionary\n",
        "dictionary = gensim.corpora.Dictionary(processed_info)\n",
        "print('Length of original dictionary:', len(dictionary))\n",
        "\n",
        "# remove rare and common words\n",
        "dictionary.filter_extremes(no_below=10, no_above=.25, keep_n=100000)\n",
        "print('Length of filtered dictionary:', len(dictionary))\n",
        "\n",
        "# make bag of words\n",
        "bow_corpus = [dictionary.doc2bow(doc) for doc in processed_info]"
      ],
      "execution_count": 5,
      "outputs": [
        {
          "output_type": "stream",
          "text": [
            "Length of original dictionary: 18820\n",
            "Length of filtered dictionary: 3057\n"
          ],
          "name": "stdout"
        }
      ]
    },
    {
      "cell_type": "markdown",
      "metadata": {
        "id": "S7sZPskxx2Fg",
        "colab_type": "text"
      },
      "source": [
        "# testing with sklearn"
      ]
    },
    {
      "cell_type": "code",
      "metadata": {
        "id": "wx-452zux2Fg",
        "colab_type": "code",
        "colab": {}
      },
      "source": [
        "countvec = CountVectorizer(ngram_range=(1,1), stop_words=stopwords, max_df=.25, min_df=10)\n",
        "clean_text = [' '.join(text) for text in processed_info]\n",
        "X = countvec.fit_transform(clean_text).todense()"
      ],
      "execution_count": 0,
      "outputs": []
    },
    {
      "cell_type": "code",
      "metadata": {
        "id": "anC0TU_Wx2Fn",
        "colab_type": "code",
        "colab": {}
      },
      "source": [
        "def get_jensen_shannon(components, ntopics):\n",
        "    #topic_dists = lda_model.components_ / model.components_.sum(axis=1)[:, np.newaxis]\n",
        "    topic_dists = components \n",
        "    js_dists = []\n",
        "    for i in range(ntopics):\n",
        "        for j in range(ntopics):\n",
        "            if i>j:\n",
        "                js_dists.append(jensen_shannon(topic_dists[i,:], topic_dists[j,:]))\n",
        "                \n",
        "    return np.min(js_dists), np.mean(js_dists)\n",
        "\n",
        "def get_jaccard(components, ntopics):\n",
        "    topn = int(np.ceil(len(dictionary)*(10/100)))\n",
        "    topic_word_probs = components #/ model.components_.sum(axis=1)[:, np.newaxis]\n",
        "    top_terms = np.argsort(-1*topic_word_probs,axis=1)\n",
        "    top_terms = -1*top_terms[:,0:topn]\n",
        "    jdists = []\n",
        "    for i in range(ntopics):\n",
        "        for j in range(ntopics):\n",
        "            if i > j:   \n",
        "                jdists.append(jaccard(top_terms[i,:], top_terms[j,:]))\n",
        "    return np.min(jdists), np.mean(jdists)"
      ],
      "execution_count": 0,
      "outputs": []
    },
    {
      "cell_type": "code",
      "metadata": {
        "id": "NRmET6TAx2Fp",
        "colab_type": "code",
        "colab": {}
      },
      "source": [
        "def avg_score(components, ntopics, ytrue=None):\n",
        "    score1 = get_jensen_shannon(components, ntopics)[0]\n",
        "    score2 = get_jaccard(components, ntopics)[0]\n",
        "    return (score1 + score2)/2"
      ],
      "execution_count": 0,
      "outputs": []
    },
    {
      "cell_type": "code",
      "metadata": {
        "id": "fpiLUD8Nx2Fq",
        "colab_type": "code",
        "colab": {}
      },
      "source": [
        "class LDAwithCustomScore(LatentDirichletAllocation):\n",
        "    def score(self, X, y=None):\n",
        "        # You can change the options passed to perplexity here\n",
        "        #score = avg_score(super(LDAwithCustomScore, self))\n",
        "        components = self.components_\n",
        "        ntopics = self.n_components\n",
        "        score = get_jensen_shannon(components, ntopics)[0]\n",
        "        return score\n",
        "    "
      ],
      "execution_count": 0,
      "outputs": []
    },
    {
      "cell_type": "code",
      "metadata": {
        "id": "ZJHxtHsyx2Fw",
        "colab_type": "code",
        "colab": {}
      },
      "source": [
        "# grid search CV with pipeline\n",
        "\n",
        "from sklearn.metrics import make_scorer\n",
        "from sklearn.model_selection import GridSearchCV\n",
        "\n",
        "# Define Search Param\n",
        "ntopics_list = [21, 22, 23, 24, 25]\n",
        "ntopics_list = np.arange(10, 21)\n",
        "search_params = {'n_components': ntopics_list}\n",
        "lda = LDAwithCustomScore()\n",
        "\n",
        "model = GridSearchCV(lda, param_grid=search_params, cv=10)\n",
        "model.fit(X)\n",
        "\n",
        "# Best Model\n",
        "best_lda_model = model.best_estimator_\n",
        "\n",
        "file = open('sklearn_model8.pkl', 'wb')\n",
        "pickle.dump(model,file)\n",
        "file.close()"
      ],
      "execution_count": 0,
      "outputs": []
    },
    {
      "cell_type": "code",
      "metadata": {
        "id": "1XlQMbnLa0hj",
        "colab_type": "code",
        "colab": {}
      },
      "source": [
        "from google.colab import files\n",
        "files.download('sklearn_model8.pkl')"
      ],
      "execution_count": 0,
      "outputs": []
    },
    {
      "cell_type": "code",
      "metadata": {
        "id": "QDnXEeNpx2Fy",
        "colab_type": "code",
        "colab": {
          "base_uri": "https://localhost:8080/",
          "height": 287
        },
        "outputId": "df5fe84b-3c57-4980-9414-6424a55773d1"
      },
      "source": [
        "\n",
        "\n",
        "cvmean = model.cv_results_['mean_test_score']\n",
        "cvstd = model.cv_results_['std_test_score']\n",
        "\n",
        "plt.plot(ntopics_list, cvmean)\n",
        "cvse = cvstd/np.sqrt(10)\n",
        "plt.fill_between(ntopics_list, cvmean+cvse, cvmean-cvse,alpha=.2)"
      ],
      "execution_count": 13,
      "outputs": [
        {
          "output_type": "execute_result",
          "data": {
            "text/plain": [
              "<matplotlib.collections.PolyCollection at 0x7f14c051db38>"
            ]
          },
          "metadata": {
            "tags": []
          },
          "execution_count": 13
        },
        {
          "output_type": "display_data",
          "data": {
            "image/png": "[encoded data removed]",
            "text/plain": [
              "<Figure size 432x288 with 1 Axes>"
            ]
          },
          "metadata": {
            "tags": []
          }
        }
      ]
    },
    {
      "cell_type": "code",
      "metadata": {
        "id": "qwmzrr-Lx2F6",
        "colab_type": "code",
        "colab": {}
      },
      "source": [
        ""
      ],
      "execution_count": 0,
      "outputs": []
    }
  ]
}